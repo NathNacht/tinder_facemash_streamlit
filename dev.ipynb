{
 "cells": [
  {
   "cell_type": "markdown",
   "metadata": {},
   "source": [
    "## Activate the virtual environment\n",
    "\n",
    "### On Windows\n",
    "```\n",
    "venv\\Scripts\\activate\n",
    "```\n",
    "\n",
    "### On macOS/Linux\n",
    "```\n",
    "source venv/bin/activate\n",
    "```\n",
    "\n",
    "## Install dependencies\n",
    "```\n",
    "pip install -r requirements.txt\n",
    "```\n",
    "\n",
    "## In the terminal, run the below script\n",
    "```\n",
    "streamlit run app.py\n",
    "```"
   ]
  },
  {
   "cell_type": "code",
   "execution_count": 1,
   "metadata": {},
   "outputs": [],
   "source": [
    "import pandas as pd"
   ]
  },
  {
   "cell_type": "code",
   "execution_count": 3,
   "metadata": {},
   "outputs": [
    {
     "name": "stdout",
     "output_type": "stream",
     "text": [
      "<class 'pandas.core.frame.DataFrame'>\n",
      "RangeIndex: 11 entries, 0 to 10\n",
      "Data columns (total 3 columns):\n",
      " #   Column      Non-Null Count  Dtype \n",
      "---  ------      --------------  ----- \n",
      " 0   image_path  11 non-null     object\n",
      " 1    level      11 non-null     int64 \n",
      " 2    real       11 non-null     int64 \n",
      "dtypes: int64(2), object(1)\n",
      "memory usage: 396.0+ bytes\n"
     ]
    }
   ],
   "source": [
    "mapping_df = pd.read_csv(\"./files/mapping.csv\")\n",
    "mapping_df.info()"
   ]
  }
 ],
 "metadata": {
  "kernelspec": {
   "display_name": "Python 3",
   "language": "python",
   "name": "python3"
  },
  "language_info": {
   "codemirror_mode": {
    "name": "ipython",
    "version": 3
   },
   "file_extension": ".py",
   "mimetype": "text/x-python",
   "name": "python",
   "nbconvert_exporter": "python",
   "pygments_lexer": "ipython3",
   "version": "3.12.3"
  }
 },
 "nbformat": 4,
 "nbformat_minor": 2
}
